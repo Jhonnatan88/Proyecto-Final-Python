{
 "cells": [
  {
   "cell_type": "markdown",
   "id": "67afd7bb",
   "metadata": {},
   "source": [
    "# Ejercicio: Investigar y ejemplificar diferencias entre np.array y np.matrix"
   ]
  },
  {
   "cell_type": "markdown",
   "id": "1d60d86a",
   "metadata": {},
   "source": [
    "La diferencia entre una array y una matrix, es que la matriz es que son extrictamente bidimensionales y el array es solamente un arreglo o lista de numeros, ambos se pueden operar y trasnponer.\n",
    "\n",
    "Si deseamos utilizar una matriz 3D o de tres dimensiones esto se convertiria en un ndarray en este caso seguiria siendo un array , entonces podriamos decir que un array es \"n\"-dimensional"
   ]
  },
  {
   "cell_type": "code",
   "execution_count": 66,
   "id": "d215319d",
   "metadata": {},
   "outputs": [
    {
     "name": "stdout",
     "output_type": "stream",
     "text": [
      "[[4 3]\n",
      " [2 1]]\n"
     ]
    }
   ],
   "source": [
    "import numpy as np\n",
    "\n",
    "a = np.matrix('4 3; 2 1')\n",
    "\n",
    "print(a)"
   ]
  },
  {
   "cell_type": "code",
   "execution_count": 67,
   "id": "035005d2",
   "metadata": {},
   "outputs": [
    {
     "name": "stdout",
     "output_type": "stream",
     "text": [
      "[1 2 3]\n"
     ]
    }
   ],
   "source": [
    "import numpy as np\n",
    "b = np.array([1,2,3])\n",
    "print(b)"
   ]
  },
  {
   "cell_type": "code",
   "execution_count": 71,
   "id": "e3042201",
   "metadata": {},
   "outputs": [
    {
     "data": {
      "text/plain": [
       "array([[0.62430556, 0.62430556, 5.27430556],\n",
       "       [0.33611111, 3.35611111, 0.33611111]])"
      ]
     },
     "execution_count": 71,
     "metadata": {},
     "output_type": "execute_result"
    }
   ],
   "source": [
    "np.ndarray(shape=(2,3), dtype=float, order='F')"
   ]
  },
  {
   "cell_type": "code",
   "execution_count": null,
   "id": "75aad1c9",
   "metadata": {},
   "outputs": [],
   "source": []
  }
 ],
 "metadata": {
  "kernelspec": {
   "display_name": "Python 3 (ipykernel)",
   "language": "python",
   "name": "python3"
  },
  "language_info": {
   "codemirror_mode": {
    "name": "ipython",
    "version": 3
   },
   "file_extension": ".py",
   "mimetype": "text/x-python",
   "name": "python",
   "nbconvert_exporter": "python",
   "pygments_lexer": "ipython3",
   "version": "3.9.7"
  }
 },
 "nbformat": 4,
 "nbformat_minor": 5
}
